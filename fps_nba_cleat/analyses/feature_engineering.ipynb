{
 "metadata": {
  "language_info": {
   "codemirror_mode": {
    "name": "ipython",
    "version": 3
   },
   "file_extension": ".py",
   "mimetype": "text/x-python",
   "name": "python",
   "nbconvert_exporter": "python",
   "pygments_lexer": "ipython3",
   "version": "3.7.3-final"
  },
  "orig_nbformat": 2,
  "kernelspec": {
   "name": "python3",
   "display_name": "Python 3"
  }
 },
 "nbformat": 4,
 "nbformat_minor": 2,
 "cells": [
  {
   "cell_type": "code",
   "execution_count": 1,
   "metadata": {},
   "outputs": [],
   "source": [
    "import pandas as pd\n",
    "import numpy as np"
   ]
  },
  {
   "cell_type": "code",
   "execution_count": 2,
   "metadata": {},
   "outputs": [],
   "source": [
    "df = pd.read_csv('../data/transformed/processed_odds.csv', index_col=0)"
   ]
  },
  {
   "cell_type": "code",
   "execution_count": 3,
   "metadata": {},
   "outputs": [],
   "source": [
    "def get_class_vs_spread(x):\n",
    "    if x[0] - x[1] > x[2] - x[3]:\n",
    "        return 'home'\n",
    "    elif x[0] - x[1] < x[2] - x[3]:\n",
    "        return 'visitor'\n",
    "    else:\n",
    "        return 'push'\n",
    "\n",
    "def get_class_vs_total(x):\n",
    "    if x[0] + x[1] > x[2] + x[3]:\n",
    "        return 'over'\n",
    "    elif x[0] + x[1] < x[2] + x[3]:\n",
    "        return 'under'\n",
    "    else:\n",
    "        return 'push'"
   ]
  },
  {
   "cell_type": "code",
   "execution_count": 4,
   "metadata": {},
   "outputs": [],
   "source": [
    "df['open_spread_win'] = df[['home_score', 'visitor_score', 'home_score_open', 'visitor_score_open']].apply(lambda x: get_class_vs_spread(x), axis=1)\n",
    "df['open_total_win'] = df[['home_score', 'visitor_score', 'home_score_open', 'visitor_score_open']].apply(lambda x: get_class_vs_total(x), axis=1)\n",
    "df['close_spread_win'] = df[['home_score', 'visitor_score', 'home_score_close', 'visitor_score_open']].apply(lambda x: get_class_vs_spread(x), axis=1)\n",
    "df['close_total_win'] = df[['home_score', 'visitor_score', 'home_score_close', 'visitor_score_close']].apply(lambda x: get_class_vs_total(x), axis=1)"
   ]
  },
  {
   "cell_type": "code",
   "execution_count": 5,
   "metadata": {},
   "outputs": [],
   "source": [
    "dates = [d.split('_')[0] for d in df.index]\n",
    "dates_final = []\n",
    "for d in dates:\n",
    "    y = d[:2]\n",
    "    m = d[2:-2]\n",
    "    d = d[-2:]\n",
    "    if len(m) < 2:\n",
    "        y = '20' + str(int(y)+1)\n",
    "        m = '0' + m\n",
    "    else:\n",
    "        y = '20' + y\n",
    "    dates_final += [y + m + d]"
   ]
  },
  {
   "cell_type": "code",
   "execution_count": 6,
   "metadata": {},
   "outputs": [],
   "source": [
    "df['date'] = pd.to_datetime(dates_final)"
   ]
  },
  {
   "cell_type": "code",
   "execution_count": 7,
   "metadata": {},
   "outputs": [],
   "source": [
    "teams = df['home_team'].unique()"
   ]
  },
  {
   "cell_type": "code",
   "execution_count": 8,
   "metadata": {
    "tags": []
   },
   "outputs": [
    {
     "output_type": "stream",
     "name": "stdout",
     "text": [
      "Orlando\n",
      "Charlotte\n",
      "Washington\n",
      "Atlanta\n",
      "Boston\n",
      "Houston\n",
      "Memphis\n",
      "Minnesota\n",
      "Brooklyn\n",
      "Denver\n",
      "Phoenix\n",
      "Sacramento\n",
      "LALakers\n",
      "Indiana\n",
      "Philadelphia\n",
      "NewOrleans\n",
      "Milwaukee\n",
      "Dallas\n",
      "Utah\n",
      "Portland\n",
      "GoldenState\n",
      "Detroit\n",
      "Miami\n",
      "OklahomaCity\n",
      "NewYork\n",
      "Cleveland\n",
      "LAClippers\n",
      "Toronto\n",
      "SanAntonio\n",
      "Chicago\n"
     ]
    }
   ],
   "source": [
    "home_prev_home = {}\n",
    "home_prev_away = {}\n",
    "visitor_prev_home = {}\n",
    "visitor_prev_away = {}\n",
    "for team in teams:\n",
    "    print(team)\n",
    "    df_curr = df[(df['home_team']==team) | (df['visitor_team']==team)]\n",
    "    for i, game in enumerate(df_curr.index):\n",
    "        home = False\n",
    "        if df_curr.loc[game, 'home_team'] == team:\n",
    "            home = True\n",
    "\n",
    "        prev_home = False\n",
    "        prev_away = False\n",
    "        j = i\n",
    "        while (j >= 0) & ((not prev_home) | (not prev_away)):\n",
    "            if j == 0:\n",
    "                if not prev_home:\n",
    "                    prev_home = pd.Timestamp(year=2013, month=10, day=31)\n",
    "                if not prev_away:\n",
    "                    prev_away = pd.Timestamp(year=2013, month=10, day=31)\n",
    "\n",
    "            idx = df_curr.index[j-1]\n",
    "            if (not prev_home) & (df_curr.loc[idx, 'home_team'] == team):\n",
    "                prev_home = df_curr.loc[idx, 'date']\n",
    "            elif (not prev_away) & (df_curr.loc[idx, 'visitor_team'] == team):\n",
    "                prev_away = df_curr.loc[idx, 'date']\n",
    "            \n",
    "            j -= 1\n",
    "        \n",
    "        if home:\n",
    "            home_prev_home[game] = prev_home\n",
    "            home_prev_away[game] = prev_away\n",
    "        else:\n",
    "            visitor_prev_home[game] = prev_home\n",
    "            visitor_prev_away[game] = prev_away"
   ]
  },
  {
   "cell_type": "code",
   "execution_count": 9,
   "metadata": {},
   "outputs": [],
   "source": [
    "df['home_prev_home'] = pd.Series(home_prev_home)\n",
    "df['home_prev_away'] = pd.Series(home_prev_away)\n",
    "df['visitor_prev_home'] = pd.Series(visitor_prev_home)\n",
    "df['visitor_prev_away'] = pd.Series(visitor_prev_away)"
   ]
  },
  {
   "cell_type": "code",
   "execution_count": 35,
   "metadata": {},
   "outputs": [],
   "source": [
    "df['home_days_since_home'] = ((df['date'] - df['home_prev_home']).dt.days).clip(lower=1, upper=15)\n",
    "df['home_days_since_away'] = ((df['date'] - df['home_prev_away']).dt.days).clip(lower=1, upper=15)\n",
    "df['visitor_days_since_home'] = ((df['date'] - df['visitor_prev_home']).dt.days).clip(lower=1, upper=15)\n",
    "df['visitor_days_since_away'] = ((df['date'] - df['visitor_prev_away']).dt.days).clip(lower=1, upper=15)"
   ]
  },
  {
   "cell_type": "code",
   "execution_count": 38,
   "metadata": {},
   "outputs": [
    {
     "output_type": "execute_result",
     "data": {
      "text/plain": [
       "               home_team  visitor_team favored_open favored_close  \\\n",
       "131101_701       Orlando    NewOrleans            V             V   \n",
       "131101_703     Charlotte     Cleveland            V             V   \n",
       "131101_705    Washington  Philadelphia            H             H   \n",
       "131101_707       Atlanta       Toronto            H             H   \n",
       "131101_709        Boston     Milwaukee            H             H   \n",
       "...                  ...           ...          ...           ...   \n",
       "19310_545    GoldenState    LAClippers            V             V   \n",
       "19311_547        Atlanta       NewYork            H             H   \n",
       "19311_549   Philadelphia       Detroit            H             H   \n",
       "19311_551          Miami     Charlotte            H             H   \n",
       "19311_555         Dallas        Denver            V             V   \n",
       "\n",
       "            spread_open  spread_close  total_open  total_close  home_ml  \\\n",
       "131101_701          4.0           4.0       194.5        193.5      155   \n",
       "131101_703          1.5           3.5       190.5        188.0      145   \n",
       "131101_705          8.5           9.5       196.5        201.0     -530   \n",
       "131101_707          3.5           3.5       194.0        195.0     -160   \n",
       "131101_709          2.5           2.5       191.0        185.5     -140   \n",
       "...                 ...           ...         ...          ...      ...   \n",
       "19310_545          12.5          12.5       226.5        223.5      575   \n",
       "19311_547           4.0           5.5       230.0        232.5     -250   \n",
       "19311_549          11.0          12.0       215.0        209.5     -800   \n",
       "19311_551          10.0          11.0       211.5        206.5     -700   \n",
       "19311_555           1.0           2.5       218.0        220.5      120   \n",
       "\n",
       "            visitor_ml  ...  close_total_win       date  home_prev_home  \\\n",
       "131101_701        -175  ...             over 2013-11-01      2013-10-31   \n",
       "131101_703        -165  ...            under 2013-11-01      2013-10-31   \n",
       "131101_705         405  ...             over 2013-11-01      2013-10-31   \n",
       "131101_707         140  ...             over 2013-11-01      2013-10-31   \n",
       "131101_709         120  ...             over 2013-11-01      2013-10-31   \n",
       "...                ...  ...              ...        ...             ...   \n",
       "19310_545         -850  ...             over 2020-03-10      2020-03-07   \n",
       "19311_547          200  ...             over 2020-03-11      2020-03-09   \n",
       "19311_549          550  ...             over 2020-03-11      2020-02-27   \n",
       "19311_551          500  ...             over 2020-03-11      2020-03-04   \n",
       "19311_555         -140  ...            under 2020-03-11      2020-03-08   \n",
       "\n",
       "            home_prev_away  visitor_prev_home  visitor_prev_away  \\\n",
       "131101_701      2013-10-31         2013-10-31         2013-10-31   \n",
       "131101_703      2013-10-31         2013-10-31         2013-10-31   \n",
       "131101_705      2013-10-31         2013-10-31         2013-10-31   \n",
       "131101_707      2013-10-31         2013-10-31         2013-10-31   \n",
       "131101_709      2013-10-31         2013-10-31         2013-10-31   \n",
       "...                    ...                ...                ...   \n",
       "19310_545       2020-03-03         2020-03-08         2020-03-05   \n",
       "19311_547       2020-03-07         2020-03-08         2020-03-10   \n",
       "19311_549       2020-03-07         2020-03-07         2020-03-08   \n",
       "19311_551       2020-03-08         2020-03-07         2020-03-09   \n",
       "19311_555       2020-03-10         2020-03-09         2020-03-07   \n",
       "\n",
       "            home_days_since_home  home_days_since_away  \\\n",
       "131101_701                     1                     1   \n",
       "131101_703                     1                     1   \n",
       "131101_705                     1                     1   \n",
       "131101_707                     1                     1   \n",
       "131101_709                     1                     1   \n",
       "...                          ...                   ...   \n",
       "19310_545                      3                     7   \n",
       "19311_547                      2                     4   \n",
       "19311_549                     13                     4   \n",
       "19311_551                      7                     3   \n",
       "19311_555                      3                     1   \n",
       "\n",
       "            visitor_days_since_home  visitor_days_since_away  \n",
       "131101_701                        1                        1  \n",
       "131101_703                        1                        1  \n",
       "131101_705                        1                        1  \n",
       "131101_707                        1                        1  \n",
       "131101_709                        1                        1  \n",
       "...                             ...                      ...  \n",
       "19310_545                         2                        5  \n",
       "19311_547                         3                        1  \n",
       "19311_549                         4                        3  \n",
       "19311_551                         4                        2  \n",
       "19311_555                         2                        4  \n",
       "\n",
       "[7328 rows x 41 columns]"
      ],
      "text/html": "<div>\n<style scoped>\n    .dataframe tbody tr th:only-of-type {\n        vertical-align: middle;\n    }\n\n    .dataframe tbody tr th {\n        vertical-align: top;\n    }\n\n    .dataframe thead th {\n        text-align: right;\n    }\n</style>\n<table border=\"1\" class=\"dataframe\">\n  <thead>\n    <tr style=\"text-align: right;\">\n      <th></th>\n      <th>home_team</th>\n      <th>visitor_team</th>\n      <th>favored_open</th>\n      <th>favored_close</th>\n      <th>spread_open</th>\n      <th>spread_close</th>\n      <th>total_open</th>\n      <th>total_close</th>\n      <th>home_ml</th>\n      <th>visitor_ml</th>\n      <th>...</th>\n      <th>close_total_win</th>\n      <th>date</th>\n      <th>home_prev_home</th>\n      <th>home_prev_away</th>\n      <th>visitor_prev_home</th>\n      <th>visitor_prev_away</th>\n      <th>home_days_since_home</th>\n      <th>home_days_since_away</th>\n      <th>visitor_days_since_home</th>\n      <th>visitor_days_since_away</th>\n    </tr>\n  </thead>\n  <tbody>\n    <tr>\n      <th>131101_701</th>\n      <td>Orlando</td>\n      <td>NewOrleans</td>\n      <td>V</td>\n      <td>V</td>\n      <td>4.0</td>\n      <td>4.0</td>\n      <td>194.5</td>\n      <td>193.5</td>\n      <td>155</td>\n      <td>-175</td>\n      <td>...</td>\n      <td>over</td>\n      <td>2013-11-01</td>\n      <td>2013-10-31</td>\n      <td>2013-10-31</td>\n      <td>2013-10-31</td>\n      <td>2013-10-31</td>\n      <td>1</td>\n      <td>1</td>\n      <td>1</td>\n      <td>1</td>\n    </tr>\n    <tr>\n      <th>131101_703</th>\n      <td>Charlotte</td>\n      <td>Cleveland</td>\n      <td>V</td>\n      <td>V</td>\n      <td>1.5</td>\n      <td>3.5</td>\n      <td>190.5</td>\n      <td>188.0</td>\n      <td>145</td>\n      <td>-165</td>\n      <td>...</td>\n      <td>under</td>\n      <td>2013-11-01</td>\n      <td>2013-10-31</td>\n      <td>2013-10-31</td>\n      <td>2013-10-31</td>\n      <td>2013-10-31</td>\n      <td>1</td>\n      <td>1</td>\n      <td>1</td>\n      <td>1</td>\n    </tr>\n    <tr>\n      <th>131101_705</th>\n      <td>Washington</td>\n      <td>Philadelphia</td>\n      <td>H</td>\n      <td>H</td>\n      <td>8.5</td>\n      <td>9.5</td>\n      <td>196.5</td>\n      <td>201.0</td>\n      <td>-530</td>\n      <td>405</td>\n      <td>...</td>\n      <td>over</td>\n      <td>2013-11-01</td>\n      <td>2013-10-31</td>\n      <td>2013-10-31</td>\n      <td>2013-10-31</td>\n      <td>2013-10-31</td>\n      <td>1</td>\n      <td>1</td>\n      <td>1</td>\n      <td>1</td>\n    </tr>\n    <tr>\n      <th>131101_707</th>\n      <td>Atlanta</td>\n      <td>Toronto</td>\n      <td>H</td>\n      <td>H</td>\n      <td>3.5</td>\n      <td>3.5</td>\n      <td>194.0</td>\n      <td>195.0</td>\n      <td>-160</td>\n      <td>140</td>\n      <td>...</td>\n      <td>over</td>\n      <td>2013-11-01</td>\n      <td>2013-10-31</td>\n      <td>2013-10-31</td>\n      <td>2013-10-31</td>\n      <td>2013-10-31</td>\n      <td>1</td>\n      <td>1</td>\n      <td>1</td>\n      <td>1</td>\n    </tr>\n    <tr>\n      <th>131101_709</th>\n      <td>Boston</td>\n      <td>Milwaukee</td>\n      <td>H</td>\n      <td>H</td>\n      <td>2.5</td>\n      <td>2.5</td>\n      <td>191.0</td>\n      <td>185.5</td>\n      <td>-140</td>\n      <td>120</td>\n      <td>...</td>\n      <td>over</td>\n      <td>2013-11-01</td>\n      <td>2013-10-31</td>\n      <td>2013-10-31</td>\n      <td>2013-10-31</td>\n      <td>2013-10-31</td>\n      <td>1</td>\n      <td>1</td>\n      <td>1</td>\n      <td>1</td>\n    </tr>\n    <tr>\n      <th>...</th>\n      <td>...</td>\n      <td>...</td>\n      <td>...</td>\n      <td>...</td>\n      <td>...</td>\n      <td>...</td>\n      <td>...</td>\n      <td>...</td>\n      <td>...</td>\n      <td>...</td>\n      <td>...</td>\n      <td>...</td>\n      <td>...</td>\n      <td>...</td>\n      <td>...</td>\n      <td>...</td>\n      <td>...</td>\n      <td>...</td>\n      <td>...</td>\n      <td>...</td>\n      <td>...</td>\n    </tr>\n    <tr>\n      <th>19310_545</th>\n      <td>GoldenState</td>\n      <td>LAClippers</td>\n      <td>V</td>\n      <td>V</td>\n      <td>12.5</td>\n      <td>12.5</td>\n      <td>226.5</td>\n      <td>223.5</td>\n      <td>575</td>\n      <td>-850</td>\n      <td>...</td>\n      <td>over</td>\n      <td>2020-03-10</td>\n      <td>2020-03-07</td>\n      <td>2020-03-03</td>\n      <td>2020-03-08</td>\n      <td>2020-03-05</td>\n      <td>3</td>\n      <td>7</td>\n      <td>2</td>\n      <td>5</td>\n    </tr>\n    <tr>\n      <th>19311_547</th>\n      <td>Atlanta</td>\n      <td>NewYork</td>\n      <td>H</td>\n      <td>H</td>\n      <td>4.0</td>\n      <td>5.5</td>\n      <td>230.0</td>\n      <td>232.5</td>\n      <td>-250</td>\n      <td>200</td>\n      <td>...</td>\n      <td>over</td>\n      <td>2020-03-11</td>\n      <td>2020-03-09</td>\n      <td>2020-03-07</td>\n      <td>2020-03-08</td>\n      <td>2020-03-10</td>\n      <td>2</td>\n      <td>4</td>\n      <td>3</td>\n      <td>1</td>\n    </tr>\n    <tr>\n      <th>19311_549</th>\n      <td>Philadelphia</td>\n      <td>Detroit</td>\n      <td>H</td>\n      <td>H</td>\n      <td>11.0</td>\n      <td>12.0</td>\n      <td>215.0</td>\n      <td>209.5</td>\n      <td>-800</td>\n      <td>550</td>\n      <td>...</td>\n      <td>over</td>\n      <td>2020-03-11</td>\n      <td>2020-02-27</td>\n      <td>2020-03-07</td>\n      <td>2020-03-07</td>\n      <td>2020-03-08</td>\n      <td>13</td>\n      <td>4</td>\n      <td>4</td>\n      <td>3</td>\n    </tr>\n    <tr>\n      <th>19311_551</th>\n      <td>Miami</td>\n      <td>Charlotte</td>\n      <td>H</td>\n      <td>H</td>\n      <td>10.0</td>\n      <td>11.0</td>\n      <td>211.5</td>\n      <td>206.5</td>\n      <td>-700</td>\n      <td>500</td>\n      <td>...</td>\n      <td>over</td>\n      <td>2020-03-11</td>\n      <td>2020-03-04</td>\n      <td>2020-03-08</td>\n      <td>2020-03-07</td>\n      <td>2020-03-09</td>\n      <td>7</td>\n      <td>3</td>\n      <td>4</td>\n      <td>2</td>\n    </tr>\n    <tr>\n      <th>19311_555</th>\n      <td>Dallas</td>\n      <td>Denver</td>\n      <td>V</td>\n      <td>V</td>\n      <td>1.0</td>\n      <td>2.5</td>\n      <td>218.0</td>\n      <td>220.5</td>\n      <td>120</td>\n      <td>-140</td>\n      <td>...</td>\n      <td>under</td>\n      <td>2020-03-11</td>\n      <td>2020-03-08</td>\n      <td>2020-03-10</td>\n      <td>2020-03-09</td>\n      <td>2020-03-07</td>\n      <td>3</td>\n      <td>1</td>\n      <td>2</td>\n      <td>4</td>\n    </tr>\n  </tbody>\n</table>\n<p>7328 rows × 41 columns</p>\n</div>"
     },
     "metadata": {},
     "execution_count": 38
    }
   ],
   "source": [
    "df"
   ]
  },
  {
   "cell_type": "code",
   "execution_count": 39,
   "metadata": {},
   "outputs": [],
   "source": [
    "df.to_csv('../data/transformed/final_dataframe.csv')"
   ]
  },
  {
   "cell_type": "code",
   "execution_count": null,
   "metadata": {},
   "outputs": [],
   "source": []
  }
 ]
}